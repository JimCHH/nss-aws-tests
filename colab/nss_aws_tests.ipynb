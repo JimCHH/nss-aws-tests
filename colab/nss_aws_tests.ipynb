{
  "nbformat": 4,
  "nbformat_minor": 0,
  "metadata": {
    "colab": {
      "name": " nss-aws-tests",
      "provenance": [],
      "collapsed_sections": [],
      "authorship_tag": "ABX9TyP4jaS+jATQdvFvEkRvQ2mL",
      "include_colab_link": true
    },
    "kernelspec": {
      "name": "python3",
      "display_name": "Python 3"
    },
    "language_info": {
      "name": "python"
    },
    "accelerator": "GPU"
  },
  "cells": [
    {
      "cell_type": "markdown",
      "metadata": {
        "id": "view-in-github",
        "colab_type": "text"
      },
      "source": [
        "<a href=\"https://colab.research.google.com/github/x1001000/nss-aws-tests/blob/main/colab/nss_aws_tests.ipynb\" target=\"_parent\"><img src=\"https://colab.research.google.com/assets/colab-badge.svg\" alt=\"Open In Colab\"/></a>"
      ]
    },
    {
      "cell_type": "code",
      "metadata": {
        "colab": {
          "base_uri": "https://localhost:8080/"
        },
        "id": "zoP1D0HADmnt",
        "outputId": "13ca0a00-efc9-4b60-ab10-55484501e498"
      },
      "source": [
        "!nvidia-smi #-L\n",
        "!pip install xmltodict\n",
        "!git clone https://github.com/x1001000/nss-aws-tests\n",
        "!mkdir nss-aws-tests/Reports\n",
        "%cd nss-aws-tests/codev2-4/"
      ],
      "execution_count": null,
      "outputs": [
        {
          "output_type": "stream",
          "text": [
            "Fri Aug 27 08:12:13 2021       \n",
            "+-----------------------------------------------------------------------------+\n",
            "| NVIDIA-SMI 470.57.02    Driver Version: 460.32.03    CUDA Version: 11.2     |\n",
            "|-------------------------------+----------------------+----------------------+\n",
            "| GPU  Name        Persistence-M| Bus-Id        Disp.A | Volatile Uncorr. ECC |\n",
            "| Fan  Temp  Perf  Pwr:Usage/Cap|         Memory-Usage | GPU-Util  Compute M. |\n",
            "|                               |                      |               MIG M. |\n",
            "|===============================+======================+======================|\n",
            "|   0  Tesla K80           Off  | 00000000:00:04.0 Off |                    0 |\n",
            "| N/A   70C    P8    33W / 149W |      0MiB / 11441MiB |      0%      Default |\n",
            "|                               |                      |                  N/A |\n",
            "+-------------------------------+----------------------+----------------------+\n",
            "                                                                               \n",
            "+-----------------------------------------------------------------------------+\n",
            "| Processes:                                                                  |\n",
            "|  GPU   GI   CI        PID   Type   Process name                  GPU Memory |\n",
            "|        ID   ID                                                   Usage      |\n",
            "|=============================================================================|\n",
            "|  No running processes found                                                 |\n",
            "+-----------------------------------------------------------------------------+\n",
            "Collecting xmltodict\n",
            "  Downloading xmltodict-0.12.0-py2.py3-none-any.whl (9.2 kB)\n",
            "Installing collected packages: xmltodict\n",
            "Successfully installed xmltodict-0.12.0\n",
            "Cloning into 'nss-aws-tests'...\n",
            "remote: Enumerating objects: 1134, done.\u001b[K\n",
            "remote: Counting objects: 100% (19/19), done.\u001b[K\n",
            "remote: Compressing objects: 100% (13/13), done.\u001b[K\n",
            "remote: Total 1134 (delta 8), reused 15 (delta 6), pack-reused 1115\u001b[K\n",
            "Receiving objects: 100% (1134/1134), 242.52 MiB | 30.27 MiB/s, done.\n",
            "Resolving deltas: 100% (235/235), done.\n",
            "Checking out files: 100% (1086/1086), done.\n",
            "/content/nss-aws-tests/codev2-4\n"
          ],
          "name": "stdout"
        }
      ]
    },
    {
      "cell_type": "markdown",
      "metadata": {
        "id": "bQiDh9d6qVj-"
      },
      "source": [
        ""
      ]
    },
    {
      "cell_type": "code",
      "metadata": {
        "colab": {
          "base_uri": "https://localhost:8080/"
        },
        "id": "IXyToQVG53tY",
        "outputId": "a56b7898-eb60-481f-b7b0-434f783f5923"
      },
      "source": [
        "!git checkout . && git pull"
      ],
      "execution_count": null,
      "outputs": [
        {
          "output_type": "stream",
          "text": [
            "Already up to date.\n"
          ],
          "name": "stdout"
        }
      ]
    },
    {
      "cell_type": "code",
      "metadata": {
        "colab": {
          "base_uri": "https://localhost:8080/"
        },
        "id": "em9_P8Ym2gWx",
        "outputId": "53035945-d12c-4c78-bb9d-6fec8f539671"
      },
      "source": [
        "!python UNet_video_test.py"
      ],
      "execution_count": null,
      "outputs": [
        {
          "output_type": "stream",
          "text": [
            "\u001b[32mtrained_model/UNet/018/my_test_model_00057500iters.pt\u001b[0m\n",
            "\u001b[32mCheck point Successfully Loaded\u001b[0m\n",
            "Testing on ../Result/20210827 NSS55555/180917_NSS62471.mp4\n",
            "/usr/local/lib/python3.7/dist-packages/torch/nn/functional.py:718: UserWarning: Named tensors and all their associated APIs are an experimental feature and subject to change. Please do not use them for anything important until they are released as stable. (Triggered internally at  /pytorch/c10/core/TensorImpl.h:1156.)\n",
            "  return torch.max_pool2d(input, kernel_size, stride, padding, dilation, ceil_mode)\n"
          ],
          "name": "stdout"
        }
      ]
    },
    {
      "cell_type": "code",
      "metadata": {
        "colab": {
          "base_uri": "https://localhost:8080/"
        },
        "id": "lA8UK5Mv7Lur",
        "outputId": "59154283-5e05-4b72-a758-7901a1958a10"
      },
      "source": [
        "!python VHIT_test.py"
      ],
      "execution_count": null,
      "outputs": [
        {
          "output_type": "stream",
          "text": [
            "\u001b[32mtrained_model/UNet/018/my_test_model_00057500iters.pt\u001b[0m\n",
            "\u001b[32mCheck point Successfully Loaded\u001b[0m\n",
            "Testing on ../Result/20210827 NSS55555/180917_NSS62471.mp4\n",
            "Making ../Reports/20210827 NSS55555\n",
            "Testing on ../Result/20210827 NSS55555/181346_NSS62471.mp4\n",
            "../Reports/20210827 NSS55555資料夾已存在\n",
            "Testing on ../Result/20210827 NSS55555/181159_NSS62471.mp4\n",
            "../Reports/20210827 NSS55555資料夾已存在\n",
            "Testing on ../Result/20210827 NSS55555/181457_NSS62471.mp4\n",
            "../Reports/20210827 NSS55555資料夾已存在\n",
            "/usr/local/lib/python3.7/dist-packages/torch/nn/functional.py:718: UserWarning: Named tensors and all their associated APIs are an experimental feature and subject to change. Please do not use them for anything important until they are released as stable. (Triggered internally at  /pytorch/c10/core/TensorImpl.h:1156.)\n",
            "  return torch.max_pool2d(input, kernel_size, stride, padding, dilation, ceil_mode)\n",
            "total_time =  66.42277455329895\n",
            "VHIT_test.py:561: RuntimeWarning: divide by zero encountered in double_scalars\n",
            "  gain_80 = [left_gradient[frame_index_80] / HeadVel[imu_index_80],  right_gradient[frame_index_80] / HeadVel[imu_index_80]]\n",
            "VHIT_test.py:559: RuntimeWarning: divide by zero encountered in double_scalars\n",
            "  gain_40 = [left_gradient[frame_index_40] / HeadVel[imu_index_40],  right_gradient[frame_index_40] / HeadVel[imu_index_40]]\n",
            "VHIT_test.py:560: RuntimeWarning: divide by zero encountered in double_scalars\n",
            "  gain_60 = [left_gradient[frame_index_60] / HeadVel[imu_index_40],  right_gradient[frame_index_60] / HeadVel[frame_index_60]]\n",
            "VHIT_test.py:520: RuntimeWarning: invalid value encountered in double_scalars\n",
            "  gain_40 = [left_gradient[frame_index_40] / HeadVel[imu_index_40],  right_gradient[frame_index_40] / HeadVel[imu_index_40]]\n",
            "VHIT_test.py:521: RuntimeWarning: invalid value encountered in double_scalars\n",
            "  gain_60 = [left_gradient[frame_index_60] / HeadVel[imu_index_40],  right_gradient[frame_index_60] / HeadVel[frame_index_60]]\n",
            "VHIT_test.py:522: RuntimeWarning: invalid value encountered in double_scalars\n",
            "  gain_80 = [left_gradient[frame_index_80] / HeadVel[imu_index_80],  right_gradient[frame_index_80] / HeadVel[imu_index_80]]\n",
            "VHIT_test.py:523: RuntimeWarning: divide by zero encountered in double_scalars\n",
            "  gain_0_100 = [np.average(left_gradient[frame_index_0:frame_index_100]) / np.average(HeadVel[imu_index_0:imu_index_100]), \\\n",
            "VHIT_test.py:524: RuntimeWarning: invalid value encountered in double_scalars\n",
            "  np.average(right_gradient[frame_index_0:frame_index_100]) / np.average(HeadVel[imu_index_0:imu_index_100])]\n",
            "VHIT_test.py:520: RuntimeWarning: divide by zero encountered in double_scalars\n",
            "  gain_40 = [left_gradient[frame_index_40] / HeadVel[imu_index_40],  right_gradient[frame_index_40] / HeadVel[imu_index_40]]\n",
            "VHIT_test.py:520: RuntimeWarning: invalid value encountered in double_scalars\n",
            "  gain_40 = [left_gradient[frame_index_40] / HeadVel[imu_index_40],  right_gradient[frame_index_40] / HeadVel[imu_index_40]]\n",
            "VHIT_test.py:521: RuntimeWarning: invalid value encountered in double_scalars\n",
            "  gain_60 = [left_gradient[frame_index_60] / HeadVel[imu_index_40],  right_gradient[frame_index_60] / HeadVel[frame_index_60]]\n",
            "VHIT_test.py:522: RuntimeWarning: divide by zero encountered in double_scalars\n",
            "  gain_80 = [left_gradient[frame_index_80] / HeadVel[imu_index_80],  right_gradient[frame_index_80] / HeadVel[imu_index_80]]\n",
            "VHIT_test.py:522: RuntimeWarning: invalid value encountered in double_scalars\n",
            "  gain_80 = [left_gradient[frame_index_80] / HeadVel[imu_index_80],  right_gradient[frame_index_80] / HeadVel[imu_index_80]]\n",
            "VHIT_test.py:523: RuntimeWarning: divide by zero encountered in double_scalars\n",
            "  gain_0_100 = [np.average(left_gradient[frame_index_0:frame_index_100]) / np.average(HeadVel[imu_index_0:imu_index_100]), \\\n",
            "VHIT_test.py:524: RuntimeWarning: invalid value encountered in double_scalars\n",
            "  np.average(right_gradient[frame_index_0:frame_index_100]) / np.average(HeadVel[imu_index_0:imu_index_100])]\n",
            "Testing on ../Result/20210827 NSS55555/181457_NSS62471 copy.mp4\n",
            "../Reports/20210827 NSS55555資料夾已存在\n",
            "total_time =  65.6405463218689\n",
            "VHIT_test.py:561: RuntimeWarning: divide by zero encountered in double_scalars\n",
            "  gain_80 = [left_gradient[frame_index_80] / HeadVel[imu_index_80],  right_gradient[frame_index_80] / HeadVel[imu_index_80]]\n",
            "VHIT_test.py:559: RuntimeWarning: divide by zero encountered in double_scalars\n",
            "  gain_40 = [left_gradient[frame_index_40] / HeadVel[imu_index_40],  right_gradient[frame_index_40] / HeadVel[imu_index_40]]\n",
            "VHIT_test.py:560: RuntimeWarning: divide by zero encountered in double_scalars\n",
            "  gain_60 = [left_gradient[frame_index_60] / HeadVel[imu_index_40],  right_gradient[frame_index_60] / HeadVel[frame_index_60]]\n",
            "VHIT_test.py:520: RuntimeWarning: invalid value encountered in double_scalars\n",
            "  gain_40 = [left_gradient[frame_index_40] / HeadVel[imu_index_40],  right_gradient[frame_index_40] / HeadVel[imu_index_40]]\n",
            "VHIT_test.py:521: RuntimeWarning: invalid value encountered in double_scalars\n",
            "  gain_60 = [left_gradient[frame_index_60] / HeadVel[imu_index_40],  right_gradient[frame_index_60] / HeadVel[frame_index_60]]\n",
            "VHIT_test.py:522: RuntimeWarning: invalid value encountered in double_scalars\n",
            "  gain_80 = [left_gradient[frame_index_80] / HeadVel[imu_index_80],  right_gradient[frame_index_80] / HeadVel[imu_index_80]]\n",
            "VHIT_test.py:523: RuntimeWarning: divide by zero encountered in double_scalars\n",
            "  gain_0_100 = [np.average(left_gradient[frame_index_0:frame_index_100]) / np.average(HeadVel[imu_index_0:imu_index_100]), \\\n",
            "VHIT_test.py:524: RuntimeWarning: invalid value encountered in double_scalars\n",
            "  np.average(right_gradient[frame_index_0:frame_index_100]) / np.average(HeadVel[imu_index_0:imu_index_100])]\n",
            "VHIT_test.py:520: RuntimeWarning: divide by zero encountered in double_scalars\n",
            "  gain_40 = [left_gradient[frame_index_40] / HeadVel[imu_index_40],  right_gradient[frame_index_40] / HeadVel[imu_index_40]]\n",
            "VHIT_test.py:520: RuntimeWarning: invalid value encountered in double_scalars\n",
            "  gain_40 = [left_gradient[frame_index_40] / HeadVel[imu_index_40],  right_gradient[frame_index_40] / HeadVel[imu_index_40]]\n",
            "VHIT_test.py:521: RuntimeWarning: invalid value encountered in double_scalars\n",
            "  gain_60 = [left_gradient[frame_index_60] / HeadVel[imu_index_40],  right_gradient[frame_index_60] / HeadVel[frame_index_60]]\n",
            "VHIT_test.py:522: RuntimeWarning: divide by zero encountered in double_scalars\n",
            "  gain_80 = [left_gradient[frame_index_80] / HeadVel[imu_index_80],  right_gradient[frame_index_80] / HeadVel[imu_index_80]]\n",
            "VHIT_test.py:522: RuntimeWarning: invalid value encountered in double_scalars\n",
            "  gain_80 = [left_gradient[frame_index_80] / HeadVel[imu_index_80],  right_gradient[frame_index_80] / HeadVel[imu_index_80]]\n",
            "VHIT_test.py:523: RuntimeWarning: divide by zero encountered in double_scalars\n",
            "  gain_0_100 = [np.average(left_gradient[frame_index_0:frame_index_100]) / np.average(HeadVel[imu_index_0:imu_index_100]), \\\n",
            "VHIT_test.py:524: RuntimeWarning: invalid value encountered in double_scalars\n",
            "  np.average(right_gradient[frame_index_0:frame_index_100]) / np.average(HeadVel[imu_index_0:imu_index_100])]\n",
            "Testing on ../Result/20210809 NSS62471/180917_NSS62471.mp4\n",
            "Making ../Reports/20210809 NSS62471\n",
            "Testing on ../Result/20210809 NSS62471/181346_NSS62471.mp4\n",
            "../Reports/20210809 NSS62471資料夾已存在\n",
            "Testing on ../Result/20210809 NSS62471/181159_NSS62471.mp4\n",
            "../Reports/20210809 NSS62471資料夾已存在\n",
            "Testing on ../Result/20210809 NSS62471/181457_NSS62471.mp4\n",
            "../Reports/20210809 NSS62471資料夾已存在\n",
            "total_time =  65.66078400611877\n",
            "VHIT_test.py:561: RuntimeWarning: divide by zero encountered in double_scalars\n",
            "  gain_80 = [left_gradient[frame_index_80] / HeadVel[imu_index_80],  right_gradient[frame_index_80] / HeadVel[imu_index_80]]\n",
            "VHIT_test.py:559: RuntimeWarning: divide by zero encountered in double_scalars\n",
            "  gain_40 = [left_gradient[frame_index_40] / HeadVel[imu_index_40],  right_gradient[frame_index_40] / HeadVel[imu_index_40]]\n",
            "VHIT_test.py:560: RuntimeWarning: divide by zero encountered in double_scalars\n",
            "  gain_60 = [left_gradient[frame_index_60] / HeadVel[imu_index_40],  right_gradient[frame_index_60] / HeadVel[frame_index_60]]\n",
            "VHIT_test.py:520: RuntimeWarning: invalid value encountered in double_scalars\n",
            "  gain_40 = [left_gradient[frame_index_40] / HeadVel[imu_index_40],  right_gradient[frame_index_40] / HeadVel[imu_index_40]]\n",
            "VHIT_test.py:521: RuntimeWarning: invalid value encountered in double_scalars\n",
            "  gain_60 = [left_gradient[frame_index_60] / HeadVel[imu_index_40],  right_gradient[frame_index_60] / HeadVel[frame_index_60]]\n",
            "VHIT_test.py:522: RuntimeWarning: invalid value encountered in double_scalars\n",
            "  gain_80 = [left_gradient[frame_index_80] / HeadVel[imu_index_80],  right_gradient[frame_index_80] / HeadVel[imu_index_80]]\n",
            "VHIT_test.py:523: RuntimeWarning: divide by zero encountered in double_scalars\n",
            "  gain_0_100 = [np.average(left_gradient[frame_index_0:frame_index_100]) / np.average(HeadVel[imu_index_0:imu_index_100]), \\\n",
            "VHIT_test.py:524: RuntimeWarning: invalid value encountered in double_scalars\n",
            "  np.average(right_gradient[frame_index_0:frame_index_100]) / np.average(HeadVel[imu_index_0:imu_index_100])]\n",
            "VHIT_test.py:520: RuntimeWarning: divide by zero encountered in double_scalars\n",
            "  gain_40 = [left_gradient[frame_index_40] / HeadVel[imu_index_40],  right_gradient[frame_index_40] / HeadVel[imu_index_40]]\n",
            "VHIT_test.py:520: RuntimeWarning: invalid value encountered in double_scalars\n",
            "  gain_40 = [left_gradient[frame_index_40] / HeadVel[imu_index_40],  right_gradient[frame_index_40] / HeadVel[imu_index_40]]\n",
            "VHIT_test.py:521: RuntimeWarning: invalid value encountered in double_scalars\n",
            "  gain_60 = [left_gradient[frame_index_60] / HeadVel[imu_index_40],  right_gradient[frame_index_60] / HeadVel[frame_index_60]]\n",
            "VHIT_test.py:522: RuntimeWarning: divide by zero encountered in double_scalars\n",
            "  gain_80 = [left_gradient[frame_index_80] / HeadVel[imu_index_80],  right_gradient[frame_index_80] / HeadVel[imu_index_80]]\n",
            "VHIT_test.py:522: RuntimeWarning: invalid value encountered in double_scalars\n",
            "  gain_80 = [left_gradient[frame_index_80] / HeadVel[imu_index_80],  right_gradient[frame_index_80] / HeadVel[imu_index_80]]\n",
            "VHIT_test.py:523: RuntimeWarning: divide by zero encountered in double_scalars\n",
            "  gain_0_100 = [np.average(left_gradient[frame_index_0:frame_index_100]) / np.average(HeadVel[imu_index_0:imu_index_100]), \\\n",
            "VHIT_test.py:524: RuntimeWarning: invalid value encountered in double_scalars\n",
            "  np.average(right_gradient[frame_index_0:frame_index_100]) / np.average(HeadVel[imu_index_0:imu_index_100])]\n",
            "220.08268761634827 seconds\n"
          ],
          "name": "stdout"
        }
      ]
    }
  ]
}