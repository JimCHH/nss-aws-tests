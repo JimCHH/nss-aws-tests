{
  "nbformat": 4,
  "nbformat_minor": 0,
  "metadata": {
    "colab": {
      "name": " nss-aws-tests",
      "provenance": [],
      "collapsed_sections": [],
      "authorship_tag": "ABX9TyNdCqCYQkYIyiGfFpEbwDHB",
      "include_colab_link": true
    },
    "kernelspec": {
      "name": "python3",
      "display_name": "Python 3"
    },
    "language_info": {
      "name": "python"
    },
    "accelerator": "GPU"
  },
  "cells": [
    {
      "cell_type": "markdown",
      "metadata": {
        "id": "view-in-github",
        "colab_type": "text"
      },
      "source": [
        "<a href=\"https://colab.research.google.com/github/x1001000/nss-aws-tests/blob/main/colab/nss_aws_tests.ipynb\" target=\"_parent\"><img src=\"https://colab.research.google.com/assets/colab-badge.svg\" alt=\"Open In Colab\"/></a>"
      ]
    },
    {
      "cell_type": "code",
      "metadata": {
        "colab": {
          "base_uri": "https://localhost:8080/"
        },
        "id": "zoP1D0HADmnt",
        "outputId": "211fe395-16d8-4f2e-faf0-eabe1d45939a"
      },
      "source": [
        "!nvidia-smi #-L\n",
        "!pip install xmltodict\n",
        "!git clone https://github.com/x1001000/nss-aws-tests\n",
        "!mkdir ~/first_out\n",
        "!cp nss-aws-tests/Result ~/first_in -r\n",
        "%cd nss-aws-tests/codev2_4/"
      ],
      "execution_count": 1,
      "outputs": [
        {
          "output_type": "stream",
          "text": [
            "Sat Aug 28 11:16:39 2021       \n",
            "+-----------------------------------------------------------------------------+\n",
            "| NVIDIA-SMI 470.57.02    Driver Version: 460.32.03    CUDA Version: 11.2     |\n",
            "|-------------------------------+----------------------+----------------------+\n",
            "| GPU  Name        Persistence-M| Bus-Id        Disp.A | Volatile Uncorr. ECC |\n",
            "| Fan  Temp  Perf  Pwr:Usage/Cap|         Memory-Usage | GPU-Util  Compute M. |\n",
            "|                               |                      |               MIG M. |\n",
            "|===============================+======================+======================|\n",
            "|   0  Tesla P4            Off  | 00000000:00:04.0 Off |                    0 |\n",
            "| N/A   53C    P8     8W /  75W |      0MiB /  7611MiB |      0%      Default |\n",
            "|                               |                      |                  N/A |\n",
            "+-------------------------------+----------------------+----------------------+\n",
            "                                                                               \n",
            "+-----------------------------------------------------------------------------+\n",
            "| Processes:                                                                  |\n",
            "|  GPU   GI   CI        PID   Type   Process name                  GPU Memory |\n",
            "|        ID   ID                                                   Usage      |\n",
            "|=============================================================================|\n",
            "|  No running processes found                                                 |\n",
            "+-----------------------------------------------------------------------------+\n",
            "Collecting xmltodict\n",
            "  Downloading xmltodict-0.12.0-py2.py3-none-any.whl (9.2 kB)\n",
            "Installing collected packages: xmltodict\n",
            "Successfully installed xmltodict-0.12.0\n",
            "Cloning into 'nss-aws-tests'...\n",
            "remote: Enumerating objects: 1155, done.\u001b[K\n",
            "remote: Counting objects: 100% (40/40), done.\u001b[K\n",
            "remote: Compressing objects: 100% (23/23), done.\u001b[K\n",
            "remote: Total 1155 (delta 17), reused 38 (delta 15), pack-reused 1115\u001b[K\n",
            "Receiving objects: 100% (1155/1155), 242.53 MiB | 38.44 MiB/s, done.\n",
            "Resolving deltas: 100% (244/244), done.\n",
            "Checking out files: 100% (1088/1088), done.\n",
            "/content/nss-aws-tests/codev2-4\n"
          ],
          "name": "stdout"
        }
      ]
    },
    {
      "cell_type": "code",
      "metadata": {
        "colab": {
          "base_uri": "https://localhost:8080/"
        },
        "id": "IXyToQVG53tY",
        "outputId": "b1ba4a25-98e1-4fd7-daf4-3944df40e67a"
      },
      "source": [
        "!git checkout . && git pull"
      ],
      "execution_count": 3,
      "outputs": [
        {
          "output_type": "stream",
          "text": [
            "remote: Enumerating objects: 4, done.\u001b[K\n",
            "remote: Counting objects:  25% (1/4)\u001b[K\rremote: Counting objects:  50% (2/4)\u001b[K\rremote: Counting objects:  75% (3/4)\u001b[K\rremote: Counting objects: 100% (4/4)\u001b[K\rremote: Counting objects: 100% (4/4), done.\u001b[K\n",
            "remote: Total 4 (delta 3), reused 4 (delta 3), pack-reused 0\u001b[K\n",
            "Unpacking objects:  25% (1/4)   \rUnpacking objects:  50% (2/4)   \rUnpacking objects:  75% (3/4)   \rUnpacking objects: 100% (4/4)   \rUnpacking objects: 100% (4/4), done.\n",
            "From https://github.com/x1001000/nss-aws-tests\n",
            "   ec497b7..4160665  main       -> origin/main\n",
            "Updating ec497b7..4160665\n",
            "Fast-forward\n",
            " codev2-4/VHIT_test.py | 50 \u001b[32m+++++++++++++++++++++++++\u001b[m\u001b[31m-------------------------\u001b[m\n",
            " 1 file changed, 25 insertions(+), 25 deletions(-)\n"
          ],
          "name": "stdout"
        }
      ]
    },
    {
      "cell_type": "code",
      "metadata": {
        "colab": {
          "base_uri": "https://localhost:8080/"
        },
        "id": "em9_P8Ym2gWx",
        "outputId": "53035945-d12c-4c78-bb9d-6fec8f539671"
      },
      "source": [
        "!python UNet_video_test.py"
      ],
      "execution_count": null,
      "outputs": [
        {
          "output_type": "stream",
          "text": [
            "\u001b[32mtrained_model/UNet/018/my_test_model_00057500iters.pt\u001b[0m\n",
            "\u001b[32mCheck point Successfully Loaded\u001b[0m\n",
            "Testing on ../Result/20210827 NSS55555/180917_NSS62471.mp4\n",
            "/usr/local/lib/python3.7/dist-packages/torch/nn/functional.py:718: UserWarning: Named tensors and all their associated APIs are an experimental feature and subject to change. Please do not use them for anything important until they are released as stable. (Triggered internally at  /pytorch/c10/core/TensorImpl.h:1156.)\n",
            "  return torch.max_pool2d(input, kernel_size, stride, padding, dilation, ceil_mode)\n"
          ],
          "name": "stdout"
        }
      ]
    },
    {
      "cell_type": "code",
      "metadata": {
        "colab": {
          "base_uri": "https://localhost:8080/"
        },
        "id": "lA8UK5Mv7Lur",
        "outputId": "b77fad1a-66a8-4c93-f6ab-cc5d2d6bf743"
      },
      "source": [
        "!python VHIT_test.py"
      ],
      "execution_count": 4,
      "outputs": [
        {
          "output_type": "stream",
          "text": [
            "\u001b[32mtrained_model/UNet/018/my_test_model_00057500iters.pt\u001b[0m\n",
            "\u001b[32mCheck point Successfully Loaded\u001b[0m\n",
            "/root/first_in/20210827 NSS62471/181457_NSS62471.mp4 進行瞳孔追蹤。。。\n",
            "/root/first_out/20210827 NSS62471 已存在\n",
            "/usr/local/lib/python3.7/dist-packages/torch/nn/functional.py:718: UserWarning: Named tensors and all their associated APIs are an experimental feature and subject to change. Please do not use them for anything important until they are released as stable. (Triggered internally at  /pytorch/c10/core/TensorImpl.h:1156.)\n",
            "  return torch.max_pool2d(input, kernel_size, stride, padding, dilation, ceil_mode)\n",
            "total_time =  22.856467723846436\n",
            "VHIT_test.py:561: RuntimeWarning: divide by zero encountered in double_scalars\n",
            "  gain_80 = [left_gradient[frame_index_80] / HeadVel[imu_index_80],  right_gradient[frame_index_80] / HeadVel[imu_index_80]]\n",
            "VHIT_test.py:559: RuntimeWarning: divide by zero encountered in double_scalars\n",
            "  gain_40 = [left_gradient[frame_index_40] / HeadVel[imu_index_40],  right_gradient[frame_index_40] / HeadVel[imu_index_40]]\n",
            "VHIT_test.py:560: RuntimeWarning: divide by zero encountered in double_scalars\n",
            "  gain_60 = [left_gradient[frame_index_60] / HeadVel[imu_index_40],  right_gradient[frame_index_60] / HeadVel[frame_index_60]]\n",
            "VHIT_test.py:520: RuntimeWarning: invalid value encountered in double_scalars\n",
            "  gain_40 = [left_gradient[frame_index_40] / HeadVel[imu_index_40],  right_gradient[frame_index_40] / HeadVel[imu_index_40]]\n",
            "VHIT_test.py:521: RuntimeWarning: invalid value encountered in double_scalars\n",
            "  gain_60 = [left_gradient[frame_index_60] / HeadVel[imu_index_40],  right_gradient[frame_index_60] / HeadVel[frame_index_60]]\n",
            "VHIT_test.py:522: RuntimeWarning: invalid value encountered in double_scalars\n",
            "  gain_80 = [left_gradient[frame_index_80] / HeadVel[imu_index_80],  right_gradient[frame_index_80] / HeadVel[imu_index_80]]\n",
            "VHIT_test.py:523: RuntimeWarning: divide by zero encountered in double_scalars\n",
            "  gain_0_100 = [np.average(left_gradient[frame_index_0:frame_index_100]) / np.average(HeadVel[imu_index_0:imu_index_100]), \\\n",
            "VHIT_test.py:524: RuntimeWarning: invalid value encountered in double_scalars\n",
            "  np.average(right_gradient[frame_index_0:frame_index_100]) / np.average(HeadVel[imu_index_0:imu_index_100])]\n",
            "VHIT_test.py:520: RuntimeWarning: divide by zero encountered in double_scalars\n",
            "  gain_40 = [left_gradient[frame_index_40] / HeadVel[imu_index_40],  right_gradient[frame_index_40] / HeadVel[imu_index_40]]\n",
            "VHIT_test.py:520: RuntimeWarning: invalid value encountered in double_scalars\n",
            "  gain_40 = [left_gradient[frame_index_40] / HeadVel[imu_index_40],  right_gradient[frame_index_40] / HeadVel[imu_index_40]]\n",
            "VHIT_test.py:521: RuntimeWarning: invalid value encountered in double_scalars\n",
            "  gain_60 = [left_gradient[frame_index_60] / HeadVel[imu_index_40],  right_gradient[frame_index_60] / HeadVel[frame_index_60]]\n",
            "VHIT_test.py:522: RuntimeWarning: divide by zero encountered in double_scalars\n",
            "  gain_80 = [left_gradient[frame_index_80] / HeadVel[imu_index_80],  right_gradient[frame_index_80] / HeadVel[imu_index_80]]\n",
            "VHIT_test.py:522: RuntimeWarning: invalid value encountered in double_scalars\n",
            "  gain_80 = [left_gradient[frame_index_80] / HeadVel[imu_index_80],  right_gradient[frame_index_80] / HeadVel[imu_index_80]]\n",
            "VHIT_test.py:523: RuntimeWarning: divide by zero encountered in double_scalars\n",
            "  gain_0_100 = [np.average(left_gradient[frame_index_0:frame_index_100]) / np.average(HeadVel[imu_index_0:imu_index_100]), \\\n",
            "VHIT_test.py:524: RuntimeWarning: invalid value encountered in double_scalars\n",
            "  np.average(right_gradient[frame_index_0:frame_index_100]) / np.average(HeadVel[imu_index_0:imu_index_100])]\n",
            "/root/first_in/20210827 NSS62471/202020_NSS62471.mp4 進行瞳孔追蹤。。。\n",
            "/root/first_out/20210827 NSS62471 已存在\n",
            "total_time =  22.79963445663452\n",
            "VHIT_test.py:561: RuntimeWarning: divide by zero encountered in double_scalars\n",
            "  gain_80 = [left_gradient[frame_index_80] / HeadVel[imu_index_80],  right_gradient[frame_index_80] / HeadVel[imu_index_80]]\n",
            "VHIT_test.py:559: RuntimeWarning: divide by zero encountered in double_scalars\n",
            "  gain_40 = [left_gradient[frame_index_40] / HeadVel[imu_index_40],  right_gradient[frame_index_40] / HeadVel[imu_index_40]]\n",
            "VHIT_test.py:560: RuntimeWarning: divide by zero encountered in double_scalars\n",
            "  gain_60 = [left_gradient[frame_index_60] / HeadVel[imu_index_40],  right_gradient[frame_index_60] / HeadVel[frame_index_60]]\n",
            "VHIT_test.py:520: RuntimeWarning: invalid value encountered in double_scalars\n",
            "  gain_40 = [left_gradient[frame_index_40] / HeadVel[imu_index_40],  right_gradient[frame_index_40] / HeadVel[imu_index_40]]\n",
            "VHIT_test.py:521: RuntimeWarning: invalid value encountered in double_scalars\n",
            "  gain_60 = [left_gradient[frame_index_60] / HeadVel[imu_index_40],  right_gradient[frame_index_60] / HeadVel[frame_index_60]]\n",
            "VHIT_test.py:522: RuntimeWarning: invalid value encountered in double_scalars\n",
            "  gain_80 = [left_gradient[frame_index_80] / HeadVel[imu_index_80],  right_gradient[frame_index_80] / HeadVel[imu_index_80]]\n",
            "VHIT_test.py:523: RuntimeWarning: divide by zero encountered in double_scalars\n",
            "  gain_0_100 = [np.average(left_gradient[frame_index_0:frame_index_100]) / np.average(HeadVel[imu_index_0:imu_index_100]), \\\n",
            "VHIT_test.py:524: RuntimeWarning: invalid value encountered in double_scalars\n",
            "  np.average(right_gradient[frame_index_0:frame_index_100]) / np.average(HeadVel[imu_index_0:imu_index_100])]\n",
            "VHIT_test.py:520: RuntimeWarning: divide by zero encountered in double_scalars\n",
            "  gain_40 = [left_gradient[frame_index_40] / HeadVel[imu_index_40],  right_gradient[frame_index_40] / HeadVel[imu_index_40]]\n",
            "VHIT_test.py:520: RuntimeWarning: invalid value encountered in double_scalars\n",
            "  gain_40 = [left_gradient[frame_index_40] / HeadVel[imu_index_40],  right_gradient[frame_index_40] / HeadVel[imu_index_40]]\n",
            "VHIT_test.py:521: RuntimeWarning: invalid value encountered in double_scalars\n",
            "  gain_60 = [left_gradient[frame_index_60] / HeadVel[imu_index_40],  right_gradient[frame_index_60] / HeadVel[frame_index_60]]\n",
            "VHIT_test.py:522: RuntimeWarning: divide by zero encountered in double_scalars\n",
            "  gain_80 = [left_gradient[frame_index_80] / HeadVel[imu_index_80],  right_gradient[frame_index_80] / HeadVel[imu_index_80]]\n",
            "VHIT_test.py:522: RuntimeWarning: invalid value encountered in double_scalars\n",
            "  gain_80 = [left_gradient[frame_index_80] / HeadVel[imu_index_80],  right_gradient[frame_index_80] / HeadVel[imu_index_80]]\n",
            "VHIT_test.py:523: RuntimeWarning: divide by zero encountered in double_scalars\n",
            "  gain_0_100 = [np.average(left_gradient[frame_index_0:frame_index_100]) / np.average(HeadVel[imu_index_0:imu_index_100]), \\\n",
            "VHIT_test.py:524: RuntimeWarning: invalid value encountered in double_scalars\n",
            "  np.average(right_gradient[frame_index_0:frame_index_100]) / np.average(HeadVel[imu_index_0:imu_index_100])]\n",
            "/root/first_in/20210827 NSS62471/180917_NSS62471.mp4 進行瞳孔追蹤。。。\n",
            "/root/first_out/20210827 NSS62471 已存在\n",
            "/root/first_in/20210827 NSS62471/181346_NSS62471.mp4 進行瞳孔追蹤。。。\n",
            "/root/first_out/20210827 NSS62471 已存在\n",
            "/root/first_in/20210827 NSS62471/181159_NSS62471.mp4 進行瞳孔追蹤。。。\n",
            "/root/first_out/20210827 NSS62471 已存在\n",
            "/root/first_in/20210809 NSS62471/181457_NSS62471.mp4 進行瞳孔追蹤。。。\n",
            "新增 /root/first_out/20210809 NSS62471\n",
            "total_time =  22.87291693687439\n",
            "VHIT_test.py:561: RuntimeWarning: divide by zero encountered in double_scalars\n",
            "  gain_80 = [left_gradient[frame_index_80] / HeadVel[imu_index_80],  right_gradient[frame_index_80] / HeadVel[imu_index_80]]\n",
            "VHIT_test.py:559: RuntimeWarning: divide by zero encountered in double_scalars\n",
            "  gain_40 = [left_gradient[frame_index_40] / HeadVel[imu_index_40],  right_gradient[frame_index_40] / HeadVel[imu_index_40]]\n",
            "VHIT_test.py:560: RuntimeWarning: divide by zero encountered in double_scalars\n",
            "  gain_60 = [left_gradient[frame_index_60] / HeadVel[imu_index_40],  right_gradient[frame_index_60] / HeadVel[frame_index_60]]\n",
            "VHIT_test.py:520: RuntimeWarning: invalid value encountered in double_scalars\n",
            "  gain_40 = [left_gradient[frame_index_40] / HeadVel[imu_index_40],  right_gradient[frame_index_40] / HeadVel[imu_index_40]]\n",
            "VHIT_test.py:521: RuntimeWarning: invalid value encountered in double_scalars\n",
            "  gain_60 = [left_gradient[frame_index_60] / HeadVel[imu_index_40],  right_gradient[frame_index_60] / HeadVel[frame_index_60]]\n",
            "VHIT_test.py:522: RuntimeWarning: invalid value encountered in double_scalars\n",
            "  gain_80 = [left_gradient[frame_index_80] / HeadVel[imu_index_80],  right_gradient[frame_index_80] / HeadVel[imu_index_80]]\n",
            "VHIT_test.py:523: RuntimeWarning: divide by zero encountered in double_scalars\n",
            "  gain_0_100 = [np.average(left_gradient[frame_index_0:frame_index_100]) / np.average(HeadVel[imu_index_0:imu_index_100]), \\\n",
            "VHIT_test.py:524: RuntimeWarning: invalid value encountered in double_scalars\n",
            "  np.average(right_gradient[frame_index_0:frame_index_100]) / np.average(HeadVel[imu_index_0:imu_index_100])]\n",
            "VHIT_test.py:520: RuntimeWarning: divide by zero encountered in double_scalars\n",
            "  gain_40 = [left_gradient[frame_index_40] / HeadVel[imu_index_40],  right_gradient[frame_index_40] / HeadVel[imu_index_40]]\n",
            "VHIT_test.py:520: RuntimeWarning: invalid value encountered in double_scalars\n",
            "  gain_40 = [left_gradient[frame_index_40] / HeadVel[imu_index_40],  right_gradient[frame_index_40] / HeadVel[imu_index_40]]\n",
            "VHIT_test.py:521: RuntimeWarning: invalid value encountered in double_scalars\n",
            "  gain_60 = [left_gradient[frame_index_60] / HeadVel[imu_index_40],  right_gradient[frame_index_60] / HeadVel[frame_index_60]]\n",
            "VHIT_test.py:522: RuntimeWarning: divide by zero encountered in double_scalars\n",
            "  gain_80 = [left_gradient[frame_index_80] / HeadVel[imu_index_80],  right_gradient[frame_index_80] / HeadVel[imu_index_80]]\n",
            "VHIT_test.py:522: RuntimeWarning: invalid value encountered in double_scalars\n",
            "  gain_80 = [left_gradient[frame_index_80] / HeadVel[imu_index_80],  right_gradient[frame_index_80] / HeadVel[imu_index_80]]\n",
            "VHIT_test.py:523: RuntimeWarning: divide by zero encountered in double_scalars\n",
            "  gain_0_100 = [np.average(left_gradient[frame_index_0:frame_index_100]) / np.average(HeadVel[imu_index_0:imu_index_100]), \\\n",
            "VHIT_test.py:524: RuntimeWarning: invalid value encountered in double_scalars\n",
            "  np.average(right_gradient[frame_index_0:frame_index_100]) / np.average(HeadVel[imu_index_0:imu_index_100])]\n",
            "/root/first_in/20210809 NSS62471/180917_NSS62471.mp4 進行瞳孔追蹤。。。\n",
            "/root/first_out/20210809 NSS62471 已存在\n",
            "/root/first_in/20210809 NSS62471/181346_NSS62471.mp4 進行瞳孔追蹤。。。\n",
            "/root/first_out/20210809 NSS62471 已存在\n",
            "/root/first_in/20210809 NSS62471/181159_NSS62471.mp4 進行瞳孔追蹤。。。\n",
            "/root/first_out/20210809 NSS62471 已存在\n"
          ],
          "name": "stdout"
        }
      ]
    }
  ]
}
