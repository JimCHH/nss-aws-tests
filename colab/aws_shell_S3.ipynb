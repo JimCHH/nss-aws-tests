{
  "nbformat": 4,
  "nbformat_minor": 0,
  "metadata": {
    "colab": {
      "name": "aws-shell-S3",
      "provenance": [],
      "collapsed_sections": [],
      "authorship_tag": "ABX9TyMhoIPkxbx5giweXQLqHoNU",
      "include_colab_link": true
    },
    "kernelspec": {
      "name": "python3",
      "display_name": "Python 3"
    },
    "language_info": {
      "name": "python"
    }
  },
  "cells": [
    {
      "cell_type": "markdown",
      "metadata": {
        "id": "view-in-github",
        "colab_type": "text"
      },
      "source": [
        "<a href=\"https://colab.research.google.com/github/x1001000/nss-aws-tests/blob/main/colab/aws_shell_S3.ipynb\" target=\"_parent\"><img src=\"https://colab.research.google.com/assets/colab-badge.svg\" alt=\"Open In Colab\"/></a>"
      ]
    },
    {
      "cell_type": "code",
      "metadata": {
        "id": "yMhY2gNp1jtc"
      },
      "source": [
        "!pip install aws-shell"
      ],
      "execution_count": null,
      "outputs": []
    },
    {
      "cell_type": "code",
      "metadata": {
        "id": "NPafG2-e1p2i"
      },
      "source": [
        "# upload credentials from my mac\n",
        "!mkdir test\n",
        "!mkdir ~/.aws\n",
        "!cp credentials ~/.aws\n",
        "!more /root/.aws/credentials"
      ],
      "execution_count": null,
      "outputs": []
    },
    {
      "cell_type": "code",
      "metadata": {
        "id": "9pwzGzmR1rR9"
      },
      "source": [
        "!aws s3 cp s3://neurobit-asg/H13/logs test --recursive"
      ],
      "execution_count": null,
      "outputs": []
    }
  ]
}